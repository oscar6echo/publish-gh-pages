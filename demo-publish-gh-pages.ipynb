{
 "cells": [
  {
   "cell_type": "code",
   "execution_count": 1,
   "metadata": {},
   "outputs": [],
   "source": [
    "%load_ext autoreload\n",
    "%autoreload 2"
   ]
  },
  {
   "cell_type": "code",
   "execution_count": 2,
   "metadata": {},
   "outputs": [],
   "source": [
    "from publish_gh_pages import Github"
   ]
  },
  {
   "cell_type": "code",
   "execution_count": 3,
   "metadata": {},
   "outputs": [
    {
     "name": "stdout",
     "output_type": "stream",
     "text": [
      "testing connection to https://github.com\n"
     ]
    },
    {
     "data": {
      "text/plain": [
       "<AuthenticatedUser [oscar6echo]>"
      ]
     },
     "execution_count": 3,
     "metadata": {},
     "output_type": "execute_result"
    }
   ],
   "source": [
    "g = Github()\n",
    "g.api.me()"
   ]
  },
  {
   "cell_type": "code",
   "execution_count": 4,
   "metadata": {},
   "outputs": [],
   "source": [
    "g.load_repo('oscar6echo', 'publish-gh-pages')"
   ]
  },
  {
   "cell_type": "markdown",
   "metadata": {},
   "source": [
    "### Publish new content"
   ]
  },
  {
   "cell_type": "code",
   "execution_count": 5,
   "metadata": {},
   "outputs": [
    {
     "name": "stdout",
     "output_type": "stream",
     "text": [
      "file new_content_1.html created\n"
     ]
    },
    {
     "data": {
      "text/plain": [
       "{'content': <Contents [new_content_1.html]>,\n",
       " 'commit': <Commit [224f4cbf29f8be1005d739c233ef0d143849e040]>,\n",
       " 'Last-Modified': '',\n",
       " 'ETag': '\"b5f01577ed22ef7b523b2b570488f368\"'}"
      ]
     },
     "execution_count": 5,
     "metadata": {},
     "output_type": "execute_result"
    }
   ],
   "source": [
    "path1 = 'new_content_1.html'\n",
    "content1 = '<h2>toto1</h2><p>I am new content.<p>'.encode('utf-8')\n",
    "message1 = 'Add new content 1'\n",
    "g.create_file(path=path1, message=message1, content=content1, branch='gh-pages')"
   ]
  },
  {
   "cell_type": "code",
   "execution_count": null,
   "metadata": {},
   "outputs": [],
   "source": []
  },
  {
   "cell_type": "markdown",
   "metadata": {},
   "source": [
    "### Update file"
   ]
  },
  {
   "cell_type": "code",
   "execution_count": 6,
   "metadata": {},
   "outputs": [
    {
     "name": "stdout",
     "output_type": "stream",
     "text": [
      "file new_content_2.html created\n"
     ]
    },
    {
     "data": {
      "text/plain": [
       "{'content': <Contents [new_content_2.html]>,\n",
       " 'commit': <Commit [ad220a939ba7b7ba8f59b739a5c0a795147f8a7a]>,\n",
       " 'Last-Modified': '',\n",
       " 'ETag': '\"f55ee374400b30353ae498a0d30c6278\"'}"
      ]
     },
     "execution_count": 6,
     "metadata": {},
     "output_type": "execute_result"
    }
   ],
   "source": [
    "path2 = 'new_content_2.html'\n",
    "content2 = '<h2>toto2</h2><p>I am new content.<p>'.encode('utf-8')\n",
    "message2 = 'Add new content 2'\n",
    "g.create_file(path=path2, message=message2, content=content2, branch='gh-pages')"
   ]
  },
  {
   "cell_type": "code",
   "execution_count": 7,
   "metadata": {},
   "outputs": [
    {
     "name": "stdout",
     "output_type": "stream",
     "text": [
      "file new_content_2.html updated\n"
     ]
    },
    {
     "data": {
      "text/plain": [
       "{'content': <Contents [new_content_2.html]>,\n",
       " 'commit': <Commit [37be40a4b02d3eca7fdd134d4383b5cba92f016d]>,\n",
       " 'Last-Modified': '',\n",
       " 'ETag': 'W/\"eabe5e2b40d6a788c421071f19aa372b\"'}"
      ]
     },
     "execution_count": 7,
     "metadata": {},
     "output_type": "execute_result"
    }
   ],
   "source": [
    "message2bis = 'Update content 2'\n",
    "content2bis = '<h2>toto2bis</h2><p>I am updated content.<p>'.encode('utf-8')\n",
    "g.update_file(path=path2, message=message2bis, content=content2bis, branch='gh-pages')"
   ]
  },
  {
   "cell_type": "code",
   "execution_count": null,
   "metadata": {},
   "outputs": [],
   "source": []
  }
 ],
 "metadata": {
  "kernelspec": {
   "display_name": "test2",
   "language": "python",
   "name": "python3"
  },
  "language_info": {
   "codemirror_mode": {
    "name": "ipython",
    "version": 3
   },
   "file_extension": ".py",
   "mimetype": "text/x-python",
   "name": "python",
   "nbconvert_exporter": "python",
   "pygments_lexer": "ipython3",
   "version": "3.7.0"
  }
 },
 "nbformat": 4,
 "nbformat_minor": 2
}
